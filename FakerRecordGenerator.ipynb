{
 "cells": [
  {
   "cell_type": "code",
   "execution_count": 1,
   "metadata": {},
   "outputs": [],
   "source": [
    "from faker import Faker\n",
    "import pandas as Panda\n",
    "import os\n",
    "from datetime import datetime"
   ]
  },
  {
   "cell_type": "code",
   "execution_count": 2,
   "metadata": {},
   "outputs": [],
   "source": [
    "Fake = Faker('en_CA')"
   ]
  },
  {
   "cell_type": "code",
   "execution_count": 3,
   "metadata": {},
   "outputs": [],
   "source": [
    "def fake_data(x):\n",
    "    FakerDf = Panda.DataFrame()\n",
    "    for _ in range(0, x):\n",
    "        FakerDf.loc[_,'uuid']= Fake.unique.uuid4(cast_to = None)\n",
    "        FakerDf.loc[_,'type']= Fake.random_element(elements = ('subscriber', 'customer'))\n",
    "        FakerDf.loc[_,'country']= Fake.current_country_code()\n",
    "        FakerDf.loc[_,'first_name']= Fake.first_name()\n",
    "        FakerDf.loc[_,'last_name']= Fake.last_name()\n",
    "        FakerDf.loc[_,'email']= Fake.unique.ascii_company_email()\n",
    "        FakerDf.loc[_,'phone']= Fake.unique.phone_number()\n",
    "        FakerDf.loc[_,'address']= Fake.address()\n",
    "        FakerDf.loc[_,'job']= Fake.job()\n",
    "        FakerDf.loc[_,'company']= Fake.unique.company()\n",
    "        FakerDf.loc[_,'last_login_ip']= Fake.unique.ipv4()\n",
    "        FakerDf.loc[_,'last_login']= Fake.date_time_between(start_date = \"-1y\", end_date = \"now\")\n",
    "        FakerDf.loc[_,'created']= Fake.date_time_between(start_date = \"-5y\", end_date = \"-1y\")\n",
    "        FakerDf.loc[_,'modified']= Fake.date_time_between(start_date = \"-3y\", end_date = \"-1y\")\n",
    "    return FakerDf"
   ]
  },
  {
   "cell_type": "code",
   "execution_count": 4,
   "metadata": {},
   "outputs": [],
   "source": [
    "FakerDf = fake_data(1000)"
   ]
  },
  {
   "cell_type": "code",
   "execution_count": 5,
   "metadata": {},
   "outputs": [],
   "source": [
    "FakerDf.to_csv(os.getcwd() + \"/output_\" + datetime.now().strftime(\"%Y-%m-%dT%H_%M_%S.%fZ\") + '.csv', index = False)"
   ]
  }
 ],
 "metadata": {
  "kernelspec": {
   "display_name": "Python 3.10.1 64-bit",
   "language": "python",
   "name": "python3"
  },
  "language_info": {
   "codemirror_mode": {
    "name": "ipython",
    "version": 3
   },
   "file_extension": ".py",
   "mimetype": "text/x-python",
   "name": "python",
   "nbconvert_exporter": "python",
   "pygments_lexer": "ipython3",
   "version": "3.10.1"
  },
  "orig_nbformat": 4,
  "vscode": {
   "interpreter": {
    "hash": "aee8b7b246df8f9039afb4144a1f6fd8d2ca17a180786b69acc140d282b71a49"
   }
  }
 },
 "nbformat": 4,
 "nbformat_minor": 2
}
